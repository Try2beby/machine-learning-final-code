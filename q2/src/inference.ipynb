{
 "cells": [
  {
   "cell_type": "code",
   "execution_count": 120,
   "id": "bda8cfe0",
   "metadata": {},
   "outputs": [],
   "source": [
    "import random\n",
    "\n",
    "import numpy as np\n",
    "import pandas as pd\n",
    "import pytorch_lightning as pl\n",
    "import torch\n",
    "from pytorch_lightning.callbacks import ModelCheckpoint\n",
    "from pytorch_lightning.loggers import TensorBoardLogger\n",
    "from torch.utils.data import DataLoader\n",
    "\n",
    "from recommender.models import Recommender\n",
    "from recommender.data_processing import get_context, pad_list, map_column, MASK, PAD"
   ]
  },
  {
   "cell_type": "code",
   "execution_count": 121,
   "id": "f687dde3",
   "metadata": {},
   "outputs": [],
   "source": [
    "# data_csv_path = \"../data/ml-latest-small/ratings.csv\"\n",
    "# movies_path = \"../data/ml-latest-small/movies.csv\"\n",
    "\n",
    "data_csv_path = \"../data/ml-25m/ratings.csv\"\n",
    "movies_path = \"../data/ml-25m/movies.csv\"\n",
    "\n",
    "model_path = \"./recommender_models/recommender.ckpt\""
   ]
  },
  {
   "cell_type": "code",
   "execution_count": 122,
   "id": "cac77364",
   "metadata": {},
   "outputs": [],
   "source": [
    "data = pd.read_csv(data_csv_path)\n",
    "movies = pd.read_csv(movies_path)"
   ]
  },
  {
   "cell_type": "code",
   "execution_count": 123,
   "id": "bb1a33bd",
   "metadata": {},
   "outputs": [],
   "source": [
    "data.sort_values(by=\"timestamp\", inplace=True)"
   ]
  },
  {
   "cell_type": "code",
   "execution_count": 124,
   "id": "0a65c910",
   "metadata": {},
   "outputs": [
    {
     "name": "stdout",
     "output_type": "stream",
     "text": [
      "59047\n"
     ]
    }
   ],
   "source": [
    "data, mapping, inverse_mapping = map_column(data, col_name=\"movieId\")\n",
    "grp_by_train = data.groupby(by=\"userId\")\n",
    "print(len(mapping))"
   ]
  },
  {
   "cell_type": "code",
   "execution_count": 125,
   "id": "6923b93c",
   "metadata": {},
   "outputs": [
    {
     "data": {
      "text/plain": [
       "[130928, 90662, 20846, 39089, 110798, 21897, 133466, 72530, 86431, 111063]"
      ]
     },
     "execution_count": 125,
     "metadata": {},
     "output_type": "execute_result"
    }
   ],
   "source": [
    "random.sample(list(grp_by_train.groups), k=10)"
   ]
  },
  {
   "cell_type": "code",
   "execution_count": 126,
   "id": "80c7cc4e",
   "metadata": {},
   "outputs": [
    {
     "data": {
      "text/plain": [
       "<All keys matched successfully>"
      ]
     },
     "execution_count": 126,
     "metadata": {},
     "output_type": "execute_result"
    }
   ],
   "source": [
    "model = Recommender(\n",
    "    vocab_size=len(mapping) + 2,\n",
    "    lr=1e-4,\n",
    "    dropout=0.3,\n",
    ")\n",
    "model.eval()\n",
    "model.load_state_dict(torch.load(model_path)[\"state_dict\"])"
   ]
  },
  {
   "cell_type": "code",
   "execution_count": 127,
   "id": "997385df",
   "metadata": {},
   "outputs": [],
   "source": [
    "movie_to_idx = {\n",
    "    a: mapping[b]\n",
    "    for a, b in zip(movies.title.tolist(), movies.movieId.tolist())\n",
    "    if b in mapping\n",
    "}\n",
    "idx_to_movie = {v: k for k, v in movie_to_idx.items()}\n",
    "# idx_to_movie = {\n",
    "#     b: (a, c)\n",
    "#     for a, b, c in zip(\n",
    "#         movies.title.tolist(), movies.movieId.tolist(), movies.genres.tolist()\n",
    "#     )\n",
    "#     if b in mapping\n",
    "# }"
   ]
  },
  {
   "cell_type": "code",
   "execution_count": 128,
   "id": "5b083cd4",
   "metadata": {},
   "outputs": [],
   "source": [
    "def predict(list_movies, model, movie_to_idx, idx_to_movie):\n",
    "    ids = (\n",
    "        [PAD] * (120 - len(list_movies) - 1)\n",
    "        + [movie_to_idx[a] for a in list_movies]\n",
    "        + [MASK]\n",
    "    )\n",
    "\n",
    "    src = torch.tensor(ids, dtype=torch.long).unsqueeze(0)\n",
    "\n",
    "    with torch.no_grad():\n",
    "        prediction = model(src)\n",
    "\n",
    "    masked_pred = prediction[0, -1].numpy()\n",
    "\n",
    "    sorted_predicted_ids = np.argsort(masked_pred).tolist()[::-1]\n",
    "\n",
    "    sorted_predicted_ids = [a for a in sorted_predicted_ids if a not in ids]\n",
    "\n",
    "    return [idx_to_movie[a] for a in sorted_predicted_ids[:10] if a in idx_to_movie]"
   ]
  },
  {
   "cell_type": "markdown",
   "id": "1f0e44c1",
   "metadata": {},
   "source": [
    "### Senario 1: Adventure/Fantasy\n"
   ]
  },
  {
   "cell_type": "code",
   "execution_count": 129,
   "id": "5dae87be",
   "metadata": {},
   "outputs": [
    {
     "data": {
      "text/plain": [
       "['Wild Strawberries (Smultronstället) (1957)',\n",
       " 'Blood Simple (1984)',\n",
       " 'Double Indemnity (1944)',\n",
       " 'Yojimbo (1961)',\n",
       " '8 1/2 (8½) (1963)',\n",
       " 'Strangers on a Train (1951)',\n",
       " 'Seventh Seal, The (Sjunde inseglet, Det) (1957)',\n",
       " 'Serpico (1973)',\n",
       " 'M (1931)',\n",
       " 'Conversation, The (1974)']"
      ]
     },
     "execution_count": 129,
     "metadata": {},
     "output_type": "execute_result"
    }
   ],
   "source": [
    "list_movies = [\n",
    "    \"Harry Potter and the Sorcerer's Stone (a.k.a. Harry Potter and the Philosopher's Stone) (2001)\",\n",
    "    \"Harry Potter and the Chamber of Secrets (2002)\",\n",
    "    \"Harry Potter and the Prisoner of Azkaban (2004)\",\n",
    "    \"Harry Potter and the Goblet of Fire (2005)\",\n",
    "]\n",
    "\n",
    "top_movie = predict(list_movies, model, movie_to_idx, idx_to_movie)\n",
    "top_movie"
   ]
  },
  {
   "cell_type": "markdown",
   "id": "afb4b657",
   "metadata": {},
   "source": [
    "### Senario 2: Action/Adventure\n"
   ]
  },
  {
   "cell_type": "code",
   "execution_count": 130,
   "id": "96f0c5d3",
   "metadata": {},
   "outputs": [
    {
     "data": {
      "text/plain": [
       "['Wild Strawberries (Smultronstället) (1957)',\n",
       " 'Blood Simple (1984)',\n",
       " 'Double Indemnity (1944)',\n",
       " 'Strangers on a Train (1951)',\n",
       " '8 1/2 (8½) (1963)',\n",
       " 'Yojimbo (1961)',\n",
       " 'M (1931)',\n",
       " 'Seventh Seal, The (Sjunde inseglet, Det) (1957)',\n",
       " 'Notorious (1946)',\n",
       " 'Key Largo (1948)']"
      ]
     },
     "execution_count": 130,
     "metadata": {},
     "output_type": "execute_result"
    }
   ],
   "source": [
    "list_movies = [\n",
    "    \"Black Panther (2017)\",\n",
    "    \"Avengers, The (2012)\",\n",
    "    \"Avengers: Infinity War - Part I (2018)\",\n",
    "    \"Logan (2017)\",\n",
    "    \"Spider-Man (2002)\",\n",
    "    \"Spider-Man 3 (2007)\",\n",
    "    # \"Spider-Man: Far from Home (2019)\",\n",
    "]\n",
    "\n",
    "top_movie = predict(list_movies, model, movie_to_idx, idx_to_movie)\n",
    "top_movie"
   ]
  },
  {
   "cell_type": "markdown",
   "id": "a22ddfeb",
   "metadata": {},
   "source": [
    "### Senario 3: Comedy\n"
   ]
  },
  {
   "cell_type": "code",
   "execution_count": 131,
   "id": "b3f01cbc",
   "metadata": {},
   "outputs": [
    {
     "data": {
      "text/plain": [
       "['Wild Strawberries (Smultronstället) (1957)',\n",
       " 'Blood Simple (1984)',\n",
       " 'Double Indemnity (1944)',\n",
       " 'Yojimbo (1961)',\n",
       " '8 1/2 (8½) (1963)',\n",
       " 'Seventh Seal, The (Sjunde inseglet, Det) (1957)',\n",
       " 'Strangers on a Train (1951)',\n",
       " 'M (1931)',\n",
       " 'Serpico (1973)',\n",
       " 'Persona (1966)']"
      ]
     },
     "execution_count": 131,
     "metadata": {},
     "output_type": "execute_result"
    }
   ],
   "source": [
    "list_movies = [\n",
    "    \"Zootopia (2016)\",\n",
    "    \"Toy Story 3 (2010)\",\n",
    "    # \"Toy Story 4 (2019)\",\n",
    "    \"Finding Nemo (2003)\",\n",
    "    \"Ratatouille (2007)\",\n",
    "    \"The Lego Movie (2014)\",\n",
    "    \"Ghostbusters (a.k.a. Ghost Busters) (1984)\",\n",
    "    \"Ace Ventura: When Nature Calls (1995)\",\n",
    "]\n",
    "top_movie = predict(list_movies, model, movie_to_idx, idx_to_movie)\n",
    "top_movie"
   ]
  }
 ],
 "metadata": {
  "kernelspec": {
   "display_name": "Python 3",
   "language": "python",
   "name": "python3"
  },
  "language_info": {
   "codemirror_mode": {
    "name": "ipython",
    "version": 3
   },
   "file_extension": ".py",
   "mimetype": "text/x-python",
   "name": "python",
   "nbconvert_exporter": "python",
   "pygments_lexer": "ipython3",
   "version": "3.8.18"
  }
 },
 "nbformat": 4,
 "nbformat_minor": 5
}
