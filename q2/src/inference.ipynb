{
 "cells": [
  {
   "cell_type": "code",
   "execution_count": 1,
   "id": "bda8cfe0",
   "metadata": {},
   "outputs": [],
   "source": [
    "import random\n",
    "\n",
    "import numpy as np\n",
    "import pandas as pd\n",
    "import pytorch_lightning as pl\n",
    "import torch\n",
    "from pytorch_lightning.callbacks import ModelCheckpoint\n",
    "from pytorch_lightning.loggers import TensorBoardLogger\n",
    "from torch.utils.data import DataLoader\n",
    "\n",
    "from recommender.models import Recommender\n",
    "from recommender.data_processing import get_context, pad_list, map_column, MASK, PAD"
   ]
  },
  {
   "cell_type": "code",
   "execution_count": 2,
   "id": "f687dde3",
   "metadata": {},
   "outputs": [],
   "source": [
    "# data_csv_path = \"../data/ml-latest-small/ratings.csv\"\n",
    "# movies_path = \"../data/ml-latest-small/movies.csv\"\n",
    "\n",
    "data_csv_path = \"../data/ml-25m/ratings.csv\"\n",
    "movies_path = \"../data/ml-25m/movies.csv\"\n",
    "\n",
    "model_path = \"./recommender_models/recommender.ckpt\""
   ]
  },
  {
   "cell_type": "code",
   "execution_count": 3,
   "id": "cac77364",
   "metadata": {},
   "outputs": [
    {
     "name": "stdout",
     "output_type": "stream",
     "text": [
      "59047\n"
     ]
    },
    {
     "data": {
      "text/plain": [
       "[40432, 62743, 129131, 41121, 35362, 142929, 44820, 6066, 76589, 54125]"
      ]
     },
     "execution_count": 3,
     "metadata": {},
     "output_type": "execute_result"
    }
   ],
   "source": [
    "data = pd.read_csv(data_csv_path)\n",
    "movies = pd.read_csv(movies_path)\n",
    "\n",
    "data.sort_values(by=\"timestamp\", inplace=True)\n",
    "\n",
    "data, mapping, inverse_mapping = map_column(data, col_name=\"movieId\")\n",
    "grp_by_train = data.groupby(by=\"userId\")\n",
    "\n",
    "random.sample(list(grp_by_train.groups), k=10)"
   ]
  },
  {
   "cell_type": "code",
   "execution_count": 4,
   "id": "80c7cc4e",
   "metadata": {},
   "outputs": [
    {
     "name": "stderr",
     "output_type": "stream",
     "text": [
      "/home/twh/.local/lib/python3.8/site-packages/torch/nn/modules/transformer.py:282: UserWarning: enable_nested_tensor is True, but self.use_nested_tensor is False because encoder_layer.self_attn.batch_first was not True(use batch_first for better inference performance)\n",
      "  warnings.warn(f\"enable_nested_tensor is True, but self.use_nested_tensor is False because {why_not_sparsity_fast_path}\")\n"
     ]
    },
    {
     "data": {
      "text/plain": [
       "<All keys matched successfully>"
      ]
     },
     "execution_count": 4,
     "metadata": {},
     "output_type": "execute_result"
    }
   ],
   "source": [
    "model = Recommender(\n",
    "    vocab_size=len(mapping) + 2,\n",
    "    lr=1e-4,\n",
    "    dropout=0.3,\n",
    ")\n",
    "model.eval()\n",
    "model.load_state_dict(torch.load(model_path)[\"state_dict\"])"
   ]
  },
  {
   "cell_type": "code",
   "execution_count": 11,
   "id": "17ae5807",
   "metadata": {},
   "outputs": [
    {
     "name": "stdout",
     "output_type": "stream",
     "text": [
      "62423 62423\n"
     ]
    }
   ],
   "source": [
    "# count values in movies[\"genres\"]\n",
    "print(len(movies.genres.to_list()), len(movies.movieId.to_list()))"
   ]
  },
  {
   "cell_type": "code",
   "execution_count": 20,
   "id": "997385df",
   "metadata": {},
   "outputs": [],
   "source": [
    "movie_to_idx = {\n",
    "    a: mapping[b]\n",
    "    for a, b in zip(movies.title.tolist(), movies.movieId.tolist())\n",
    "    if b in mapping\n",
    "}\n",
    "\n",
    "# movie_to_idx = {\n",
    "#     a: mapping[b]\n",
    "#     for a, b, _ in zip(\n",
    "#         movies.title.tolist(), movies.movieId.tolist(), movies.genres.to_list()\n",
    "#     )\n",
    "#     if b in mapping\n",
    "# }\n",
    "\n",
    "# idx_to_movie = {v: k for k, v in movie_to_idx.items()}\n",
    "idx_to_movie = {\n",
    "    mapping[b]: (a, c)\n",
    "    for a, b, c in zip(\n",
    "        movies.title.tolist(), movies.movieId.tolist(), movies.genres.tolist()\n",
    "    )\n",
    "    if b in mapping\n",
    "}"
   ]
  },
  {
   "cell_type": "code",
   "execution_count": 21,
   "id": "5b083cd4",
   "metadata": {},
   "outputs": [],
   "source": [
    "def predict(list_movies, model, movie_to_idx, idx_to_movie):\n",
    "    ids = (\n",
    "        [PAD] * (120 - len(list_movies) - 1)\n",
    "        + [movie_to_idx[a] for a in list_movies]\n",
    "        + [MASK]\n",
    "    )\n",
    "\n",
    "    src = torch.tensor(ids, dtype=torch.long).unsqueeze(0)\n",
    "\n",
    "    with torch.no_grad():\n",
    "        prediction = model(src)\n",
    "\n",
    "    masked_pred = prediction[0, -1].numpy()\n",
    "    sorted_predicted_ids = np.argsort(masked_pred).tolist()[::-1]\n",
    "    sorted_predicted_ids = [a for a in sorted_predicted_ids if a not in ids]\n",
    "\n",
    "    return [idx_to_movie[a] for a in sorted_predicted_ids[:10] if a in idx_to_movie]"
   ]
  },
  {
   "cell_type": "markdown",
   "id": "1f0e44c1",
   "metadata": {},
   "source": [
    "### Senario 1: Adventure/Fantasy\n"
   ]
  },
  {
   "cell_type": "code",
   "execution_count": 22,
   "id": "5dae87be",
   "metadata": {},
   "outputs": [
    {
     "data": {
      "text/plain": [
       "[('Ice Age (2002)', 'Adventure|Animation|Children|Comedy'),\n",
       " ('Harry Potter and the Order of the Phoenix (2007)',\n",
       "  'Adventure|Drama|Fantasy|IMAX'),\n",
       " (\"Pirates of the Caribbean: Dead Man's Chest (2006)\",\n",
       "  'Action|Adventure|Fantasy'),\n",
       " ('Shrek 2 (2004)', 'Adventure|Animation|Children|Comedy|Musical|Romance'),\n",
       " ('Harry Potter and the Half-Blood Prince (2009)',\n",
       "  'Adventure|Fantasy|Mystery|Romance|IMAX'),\n",
       " ('Star Wars: Episode III - Revenge of the Sith (2005)',\n",
       "  'Action|Adventure|Sci-Fi'),\n",
       " ('Avatar (2009)', 'Action|Adventure|Sci-Fi|IMAX'),\n",
       " ('Up (2009)', 'Adventure|Animation|Children|Drama'),\n",
       " ('I, Robot (2004)', 'Action|Adventure|Sci-Fi|Thriller'),\n",
       " ('Bruce Almighty (2003)', 'Comedy|Drama|Fantasy|Romance')]"
      ]
     },
     "execution_count": 22,
     "metadata": {},
     "output_type": "execute_result"
    }
   ],
   "source": [
    "list_movies = [\n",
    "    \"Harry Potter and the Sorcerer's Stone (a.k.a. Harry Potter and the Philosopher's Stone) (2001)\",\n",
    "    \"Harry Potter and the Chamber of Secrets (2002)\",\n",
    "    \"Harry Potter and the Prisoner of Azkaban (2004)\",\n",
    "    \"Harry Potter and the Goblet of Fire (2005)\",\n",
    "]\n",
    "\n",
    "top_movie = predict(list_movies, model, movie_to_idx, idx_to_movie)\n",
    "top_movie"
   ]
  },
  {
   "cell_type": "markdown",
   "id": "afb4b657",
   "metadata": {},
   "source": [
    "### Senario 2: Action/Adventure\n"
   ]
  },
  {
   "cell_type": "code",
   "execution_count": 24,
   "id": "96f0c5d3",
   "metadata": {},
   "outputs": [
    {
     "data": {
      "text/plain": [
       "[('Deadpool 2 (2018)', 'Action|Comedy|Sci-Fi'),\n",
       " ('X-Men Origins: Wolverine (2009)', 'Action|Sci-Fi|Thriller'),\n",
       " ('Thor: Ragnarok (2017)', 'Action|Adventure|Sci-Fi'),\n",
       " (\"Pirates of the Caribbean: Dead Man's Chest (2006)\",\n",
       "  'Action|Adventure|Fantasy'),\n",
       " ('Doctor Strange (2016)', 'Action|Adventure|Sci-Fi'),\n",
       " ('Spider-Man 2 (2004)', 'Action|Adventure|Sci-Fi|IMAX'),\n",
       " ('I, Robot (2004)', 'Action|Adventure|Sci-Fi|Thriller'),\n",
       " ('Guardians of the Galaxy 2 (2017)', 'Action|Adventure|Sci-Fi'),\n",
       " ('X2: X-Men United (2003)', 'Action|Adventure|Sci-Fi|Thriller'),\n",
       " ('Matrix Reloaded, The (2003)', 'Action|Adventure|Sci-Fi|Thriller|IMAX')]"
      ]
     },
     "execution_count": 24,
     "metadata": {},
     "output_type": "execute_result"
    }
   ],
   "source": [
    "list_movies = [\n",
    "    \"Black Panther (2017)\",\n",
    "    \"Avengers, The (2012)\",\n",
    "    \"Avengers: Infinity War - Part I (2018)\",\n",
    "    \"Logan (2017)\",\n",
    "    \"Spider-Man (2002)\",\n",
    "    \"Spider-Man 3 (2007)\",\n",
    "    \"Spider-Man: Far from Home (2019)\",\n",
    "]\n",
    "\n",
    "top_movie = predict(list_movies, model, movie_to_idx, idx_to_movie)\n",
    "top_movie"
   ]
  },
  {
   "cell_type": "markdown",
   "id": "a22ddfeb",
   "metadata": {},
   "source": [
    "### Senario 3: Comedy\n"
   ]
  },
  {
   "cell_type": "code",
   "execution_count": 25,
   "id": "b3f01cbc",
   "metadata": {},
   "outputs": [
    {
     "data": {
      "text/plain": [
       "[('Toy Story (1995)', 'Adventure|Animation|Children|Comedy|Fantasy'),\n",
       " ('Aladdin (1992)', 'Adventure|Animation|Children|Comedy|Musical'),\n",
       " ('Monsters, Inc. (2001)', 'Adventure|Animation|Children|Comedy|Fantasy'),\n",
       " ('Clueless (1995)', 'Comedy|Romance'),\n",
       " ('Mean Girls (2004)', 'Comedy'),\n",
       " ('Toy Story 2 (1999)', 'Adventure|Animation|Children|Comedy|Fantasy'),\n",
       " ('Forrest Gump (1994)', 'Comedy|Drama|Romance|War'),\n",
       " (\"Bug's Life, A (1998)\", 'Adventure|Animation|Children|Comedy'),\n",
       " (\"Ferris Bueller's Day Off (1986)\", 'Comedy'),\n",
       " ('Breakfast Club, The (1985)', 'Comedy|Drama')]"
      ]
     },
     "execution_count": 25,
     "metadata": {},
     "output_type": "execute_result"
    }
   ],
   "source": [
    "list_movies = [\n",
    "    \"Zootopia (2016)\",\n",
    "    \"Toy Story 3 (2010)\",\n",
    "    \"Toy Story 4 (2019)\",\n",
    "    \"Finding Nemo (2003)\",\n",
    "    \"Ratatouille (2007)\",\n",
    "    \"The Lego Movie (2014)\",\n",
    "    \"Ghostbusters (a.k.a. Ghost Busters) (1984)\",\n",
    "    \"Ace Ventura: When Nature Calls (1995)\",\n",
    "]\n",
    "top_movie = predict(list_movies, model, movie_to_idx, idx_to_movie)\n",
    "top_movie"
   ]
  }
 ],
 "metadata": {
  "kernelspec": {
   "display_name": "Python 3",
   "language": "python",
   "name": "python3"
  },
  "language_info": {
   "codemirror_mode": {
    "name": "ipython",
    "version": 3
   },
   "file_extension": ".py",
   "mimetype": "text/x-python",
   "name": "python",
   "nbconvert_exporter": "python",
   "pygments_lexer": "ipython3",
   "version": "3.8.18"
  }
 },
 "nbformat": 4,
 "nbformat_minor": 5
}
