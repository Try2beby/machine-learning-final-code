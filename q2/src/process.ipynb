{
    "cells": [
        {
            "cell_type": "code",
            "execution_count": null,
            "metadata": {},
            "outputs": [],
            "source": [
                "import random\n",
                "\n",
                "import numpy as np\n",
                "import pandas as pd\n",
                "import pytorch_lightning as pl\n",
                "import torch\n",
                "from pytorch_lightning.callbacks import ModelCheckpoint\n",
                "from pytorch_lightning.loggers import TensorBoardLogger\n",
                "from torch.utils.data import DataLoader\n",
                "\n",
                "from recommender.models import Recommender\n",
                "from recommender.data_processing import get_context, pad_list, map_column, MASK, PAD"
            ]
        },
        {
            "cell_type": "code",
            "execution_count": null,
            "metadata": {},
            "outputs": [],
            "source": [
                "data_csv_path = \"../data/ml-1m/ratings.dat\"\n",
                "movies_path = \"/home/jenazzad/ML_DATA/movielens/ml-25m/movies.csv\"\n",
                "\n",
                "# model_path = \"/home/jenazzad/PycharmProjects/recommender_transformer/recommender_models/recommender.ckpt\""
            ]
        },
        {
            "cell_type": "code",
            "execution_count": null,
            "metadata": {},
            "outputs": [],
            "source": [
                "data = pd.read_csv(data_csv_path)\n",
                "movies = pd.read_csv(movies_path)"
            ]
        },
        {
            "cell_type": "code",
            "execution_count": null,
            "metadata": {},
            "outputs": [],
            "source": [
                "data.sort_values(by=\"timestamp\", inplace=True)"
            ]
        },
        {
            "cell_type": "code",
            "execution_count": null,
            "metadata": {},
            "outputs": [],
            "source": [
                "data, mapping, inverse_mapping = map_column(data, col_name=\"movieId\")\n",
                "grp_by_train = data.groupby(by=\"userId\")"
            ]
        },
        {
            "cell_type": "code",
            "execution_count": null,
            "metadata": {},
            "outputs": [],
            "source": [
                "random.sample(list(grp_by_train.groups), k=10)"
            ]
        },
        {
            "cell_type": "code",
            "execution_count": null,
            "metadata": {},
            "outputs": [],
            "source": [
                "model = Recommender(\n",
                "        vocab_size=len(mapping) + 2,\n",
                "        lr=1e-4,\n",
                "        dropout=0.3,\n",
                "    )\n",
                "model.eval()\n",
                "model.load_state_dict(torch.load(model_path)[\"state_dict\"])"
            ]
        },
        {
            "cell_type": "code",
            "execution_count": null,
            "metadata": {},
            "outputs": [],
            "source": [
                "movie_to_idx = {a: mapping[b] for a, b in zip(movies.title.tolist(), movies.movieId.tolist()) if b in mapping}\n",
                "idx_to_movie = {v: k for k, v in movie_to_idx.items()}"
            ]
        },
        {
            "cell_type": "code",
            "execution_count": null,
            "metadata": {},
            "outputs": [],
            "source": [
                "def predict(list_movies, model, movie_to_idx, idx_to_movie):\n",
                "    \n",
                "    ids = [PAD] * (120 - len(list_movies) - 1) + [movie_to_idx[a] for a in list_movies] + [MASK]\n",
                "    \n",
                "    src = torch.tensor(ids, dtype=torch.long).unsqueeze(0)\n",
                "    \n",
                "    with torch.no_grad():\n",
                "        prediction = model(src)\n",
                "    \n",
                "    masked_pred = prediction[0, -1].numpy()\n",
                "    \n",
                "    sorted_predicted_ids = np.argsort(masked_pred).tolist()[::-1]\n",
                "    \n",
                "    sorted_predicted_ids = [a for a in sorted_predicted_ids if a not in ids]\n",
                "    \n",
                "    return [idx_to_movie[a] for a in sorted_predicted_ids[:30] if a in idx_to_movie]\n"
            ]
        }
    ],
    "metadata": {
        "kernelspec": {
            "display_name": "myenv",
            "language": "python",
            "name": "python3"
        },
        "language_info": {
            "codemirror_mode": {
                "name": "ipython",
                "version": 3
            },
            "file_extension": ".py",
            "mimetype": "text/x-python",
            "name": "python",
            "nbconvert_exporter": "python",
            "pygments_lexer": "ipython3",
            "version": "3.11.5"
        }
    },
    "nbformat": 4,
    "nbformat_minor": 2
}
