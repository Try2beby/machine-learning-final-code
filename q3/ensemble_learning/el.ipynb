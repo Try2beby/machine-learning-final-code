{
 "cells": [
  {
   "cell_type": "code",
   "execution_count": 23,
   "metadata": {},
   "outputs": [
    {
     "name": "stdout",
     "output_type": "stream",
     "text": [
      "Time taken for bagging: 6.36e-05 seconds\n",
      "Cross-validation scores:  0.9666666666666667 0.9666666666666667 0.9 0.9666666666666667 1.0\n",
      "Average cross-validation score:  0.9600000000000002\n"
     ]
    }
   ],
   "source": [
    "from sklearn.ensemble import BaggingClassifier\n",
    "from sklearn.tree import DecisionTreeClassifier\n",
    "from sklearn.datasets import load_iris\n",
    "from sklearn.model_selection import cross_val_score\n",
    "\n",
    "import sys\n",
    "\n",
    "sys.path.append(\"../utils\")\n",
    "from _timer import Timer\n",
    "\n",
    "# Load the iris dataset\n",
    "iris = load_iris()\n",
    "X, y = iris.data, iris.target\n",
    "\n",
    "# Create a decision tree classifier\n",
    "tree = DecisionTreeClassifier()\n",
    "\n",
    "timer = Timer(\"bagging\")\n",
    "# Create an AdaBoost classifier with the decision tree\n",
    "bag = BaggingClassifier(tree, n_estimators=100, random_state=42)\n",
    "timer.stop()\n",
    "\n",
    "# Perform k-fold cross validation\n",
    "scores = cross_val_score(bag, X, y, cv=5)\n",
    "\n",
    "print(\"Cross-validation scores: \", *scores)\n",
    "print(\"Average cross-validation score: \", scores.mean())"
   ]
  }
 ],
 "metadata": {
  "kernelspec": {
   "display_name": "myenv",
   "language": "python",
   "name": "python3"
  },
  "language_info": {
   "codemirror_mode": {
    "name": "ipython",
    "version": 3
   },
   "file_extension": ".py",
   "mimetype": "text/x-python",
   "name": "python",
   "nbconvert_exporter": "python",
   "pygments_lexer": "ipython3",
   "version": "3.11.5"
  }
 },
 "nbformat": 4,
 "nbformat_minor": 2
}
