{
 "cells": [
  {
   "cell_type": "markdown",
   "metadata": {},
   "source": [
    "# 使用 PyTorch 构建神经网络\n"
   ]
  },
  {
   "cell_type": "code",
   "execution_count": 1,
   "metadata": {},
   "outputs": [
    {
     "data": {
      "text/plain": [
       "<torch._C.Generator at 0x1f06154a090>"
      ]
     },
     "execution_count": 1,
     "metadata": {},
     "output_type": "execute_result"
    }
   ],
   "source": [
    "from sklearn.datasets import load_iris\n",
    "\n",
    "import torch\n",
    "import torch.nn as nn\n",
    "import torch.optim as optim\n",
    "\n",
    "from torch.utils.data import DataLoader, TensorDataset\n",
    "\n",
    "from sklearn.model_selection import KFold\n",
    "import sys\n",
    "\n",
    "sys.path.append(\"../utils\")\n",
    "from _timer import Timer\n",
    "\n",
    "# set random seed\n",
    "\n",
    "torch.manual_seed(0)"
   ]
  },
  {
   "cell_type": "code",
   "execution_count": 18,
   "metadata": {},
   "outputs": [
    {
     "data": {
      "text/plain": [
       "((150, 4), (150,))"
      ]
     },
     "execution_count": 18,
     "metadata": {},
     "output_type": "execute_result"
    }
   ],
   "source": [
    "# 加载数据\n",
    "iris = load_iris()\n",
    "X, y = iris.data, iris.target\n",
    "X.shape, y.shape"
   ]
  },
  {
   "cell_type": "code",
   "execution_count": 19,
   "metadata": {},
   "outputs": [],
   "source": [
    "class Net(nn.Module):\n",
    "    def __init__(\n",
    "        self,\n",
    "        num_inputs,\n",
    "        num_outputs,\n",
    "        verbose=False,\n",
    "        epoch=5000,\n",
    "        tol=1e-4,\n",
    "        weight_decay=0.01,\n",
    "    ):\n",
    "        super().__init__()\n",
    "        self.net = nn.Sequential(\n",
    "            nn.Linear(num_inputs, 10), nn.ReLU(), nn.Linear(10, num_outputs)\n",
    "        )\n",
    "        self.net.apply(self.init_weights)\n",
    "        self.verbose = verbose\n",
    "        self.epoch = epoch\n",
    "        self.tol = tol\n",
    "        self.weight_decay = weight_decay\n",
    "\n",
    "    def init_weights(self, m):\n",
    "        if type(m) == nn.Linear:\n",
    "            nn.init.normal_(m.weight, std=0.01)\n",
    "\n",
    "    def forward(self, x):\n",
    "        return self.net(x)\n",
    "\n",
    "    def cross_validate(self, X, y, k_folds=5):\n",
    "        # 将数据转换为 PyTorch tensors\n",
    "        X_tensor = torch.from_numpy(X).float()\n",
    "        y_tensor = torch.from_numpy(y).long()\n",
    "        accuracy = [0 for _ in range(k_folds)]\n",
    "\n",
    "        # 创建一个 TensorDataset 对象\n",
    "        dataset = TensorDataset(X_tensor, y_tensor)\n",
    "\n",
    "        # 定义 k 折交叉验证\n",
    "        kfold = KFold(n_splits=k_folds, shuffle=True)\n",
    "\n",
    "        # 开始 k 折交叉验证\n",
    "        for fold, (train_ids, test_ids) in enumerate(kfold.split(dataset)):\n",
    "            # reset the network to default initialization\n",
    "            self.net.apply(self.init_weights)\n",
    "            train_size = len(train_ids)\n",
    "            test_size = len(test_ids)\n",
    "\n",
    "            # 创建训练和测试数据子集\n",
    "            train_subsampler = torch.utils.data.SubsetRandomSampler(train_ids)\n",
    "            test_subsampler = torch.utils.data.SubsetRandomSampler(test_ids)\n",
    "\n",
    "            # 定义数据加载器\n",
    "            train_loader = DataLoader(\n",
    "                dataset, batch_size=train_size, sampler=train_subsampler\n",
    "            )\n",
    "            test_loader = DataLoader(\n",
    "                dataset, batch_size=test_size, sampler=test_subsampler\n",
    "            )\n",
    "            # print(len(train_loader), len(test_loader))\n",
    "\n",
    "            # 定义优化器和损失函数\n",
    "            optimizer = optim.Adam(\n",
    "                self.net.parameters(), weight_decay=self.weight_decay\n",
    "            )\n",
    "            criterion = nn.CrossEntropyLoss()\n",
    "\n",
    "            # 训练网络\n",
    "            epoch_loss_prev = -1\n",
    "            for epoch in range(self.epoch):\n",
    "                epoch_loss = 0\n",
    "                for inputs, targets in train_loader:\n",
    "                    optimizer.zero_grad()\n",
    "                    outputs = self.net(inputs)\n",
    "                    loss = criterion(outputs, targets)\n",
    "                    loss.backward()\n",
    "                    optimizer.step()\n",
    "                    epoch_loss += loss.item()\n",
    "                epoch_loss = epoch_loss / len(train_loader)\n",
    "                if abs(epoch_loss_prev - epoch_loss) < self.tol:\n",
    "                    print(f\"terminate at Epoch {epoch+1}, Loss: {epoch_loss}\")\n",
    "                    break\n",
    "                epoch_loss_prev = epoch_loss\n",
    "\n",
    "                if self.verbose and epoch % 100 == 0:\n",
    "                    print(f\"Epoch {epoch+1}, Loss: {epoch_loss}\")\n",
    "                if epoch == self.epoch - 1:\n",
    "                    print(\"Max iterations reached, stopping training...\")\n",
    "\n",
    "            # 在测试集上评估网络\n",
    "            correct = 0\n",
    "            total = 0\n",
    "            with torch.no_grad():\n",
    "                for inputs, targets in test_loader:\n",
    "                    outputs = self.net(inputs)\n",
    "                    _, predicted = torch.max(outputs.data, 1)\n",
    "                    total += targets.size(0)\n",
    "                    correct += (predicted == targets).sum().item()\n",
    "            accuracy[fold] = correct / total\n",
    "            print(f\"Fold {fold}, Accuracy: {correct / total}\")\n",
    "        return accuracy"
   ]
  },
  {
   "cell_type": "code",
   "execution_count": 20,
   "metadata": {},
   "outputs": [
    {
     "name": "stdout",
     "output_type": "stream",
     "text": [
      "terminate at Epoch 1037, Loss: 0.12911881506443024\n",
      "Fold 0, Accuracy: 1.0\n",
      "terminate at Epoch 860, Loss: 0.09367472678422928\n",
      "Fold 1, Accuracy: 0.9333333333333333\n",
      "terminate at Epoch 958, Loss: 0.11977370828390121\n",
      "Fold 2, Accuracy: 0.9666666666666667\n",
      "terminate at Epoch 974, Loss: 0.1111510843038559\n",
      "Fold 3, Accuracy: 0.9666666666666667\n",
      "terminate at Epoch 1198, Loss: 0.1156303882598877\n",
      "Fold 4, Accuracy: 1.0\n",
      "Time taken for neural network: 8.69 seconds\n",
      "Average accuracy: 0.9733333333333334\n"
     ]
    }
   ],
   "source": [
    "net = Net(X.shape[1], len(set(y)), verbose=0)\n",
    "\n",
    "timer = Timer(\"neural network\")\n",
    "\n",
    "\n",
    "accuracy = net.cross_validate(X, y)\n",
    "timer.stop()\n",
    "\n",
    "\n",
    "average_accuracy = sum(accuracy) / len(accuracy)\n",
    "\n",
    "\n",
    "print(f\"Average accuracy: {average_accuracy}\")"
   ]
  },
  {
   "cell_type": "markdown",
   "metadata": {},
   "source": [
    "# 使用 scikit-learn MLPClassifier 构建神经网络\n"
   ]
  },
  {
   "cell_type": "code",
   "execution_count": 21,
   "metadata": {},
   "outputs": [
    {
     "name": "stdout",
     "output_type": "stream",
     "text": [
      "Time taken for sklearn neural network: 8.07e-05 seconds\n",
      "Cross-validation scores:  1.0 1.0 0.9666666666666667 0.9666666666666667 1.0\n",
      "Average cross-validation score:  0.9866666666666667\n"
     ]
    }
   ],
   "source": [
    "from sklearn.model_selection import cross_val_score\n",
    "from sklearn.datasets import load_iris\n",
    "from sklearn.neural_network import MLPClassifier\n",
    "\n",
    "# 加载数据\n",
    "iris = load_iris()\n",
    "X, y = iris.data, iris.target\n",
    "\n",
    "timer = Timer(\"sklearn neural network\")\n",
    "# 创建神经网络模型\n",
    "model = MLPClassifier(hidden_layer_sizes=(10,), learning_rate=\"adaptive\", max_iter=3000)\n",
    "timer.stop()\n",
    "\n",
    "# 使用交叉验证评估模型\n",
    "scores = cross_val_score(model, X, y, cv=5)\n",
    "\n",
    "print(\"Cross-validation scores: \", *scores)\n",
    "print(\"Average cross-validation score: \", scores.mean())"
   ]
  }
 ],
 "metadata": {
  "kernelspec": {
   "display_name": "myenv",
   "language": "python",
   "name": "python3"
  },
  "language_info": {
   "codemirror_mode": {
    "name": "ipython",
    "version": 3
   },
   "file_extension": ".py",
   "mimetype": "text/x-python",
   "name": "python",
   "nbconvert_exporter": "python",
   "pygments_lexer": "ipython3",
   "version": "3.11.5"
  }
 },
 "nbformat": 4,
 "nbformat_minor": 2
}
