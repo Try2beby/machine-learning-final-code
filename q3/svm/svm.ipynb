{
 "cells": [
  {
   "cell_type": "code",
   "execution_count": 18,
   "metadata": {},
   "outputs": [
    {
     "name": "stdout",
     "output_type": "stream",
     "text": [
      "Time taken for SVM: 0.000165 seconds\n",
      "Cross-validation scores:  0.0333 0.167 0 0.1 0.0333\n",
      "Average cross-validation score:  0.0667\n"
     ]
    }
   ],
   "source": [
    "from sklearn.datasets import load_iris\n",
    "from sklearn.model_selection import cross_val_score\n",
    "from sklearn import svm\n",
    "\n",
    "import sys\n",
    "\n",
    "sys.path.append(\"../utils\")\n",
    "from _timer import Timer\n",
    "\n",
    "\n",
    "# 加载 iris 数据集\n",
    "iris = load_iris()\n",
    "X, y = iris.data, iris.target\n",
    "\n",
    "timer = Timer(\"SVM\")\n",
    "# 创建 SVM 分类器\n",
    "clf = svm.SVC(\n",
    "    decision_function_shape=\"ovo\", kernel=\"sigmoid\"\n",
    ")  # 'ovo' stands for One-vs-One\n",
    "timer.stop()\n",
    "\n",
    "\n",
    "# k_fold cross validation\n",
    "scores = cross_val_score(clf, X, y, cv=5)\n",
    "\n",
    "print(\"Cross-validation scores: \", *[format(score, \".3g\") for score in scores])\n",
    "print(\"Average cross-validation score: \", format(scores.mean(), \".3g\"))"
   ]
  }
 ],
 "metadata": {
  "kernelspec": {
   "display_name": "myenv",
   "language": "python",
   "name": "python3"
  },
  "language_info": {
   "codemirror_mode": {
    "name": "ipython",
    "version": 3
   },
   "file_extension": ".py",
   "mimetype": "text/x-python",
   "name": "python",
   "nbconvert_exporter": "python",
   "pygments_lexer": "ipython3",
   "version": "3.11.5"
  }
 },
 "nbformat": 4,
 "nbformat_minor": 2
}
